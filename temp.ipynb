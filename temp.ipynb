{
 "cells": [
  {
   "cell_type": "code",
   "execution_count": 2,
   "metadata": {},
   "outputs": [
    {
     "name": "stdout",
     "output_type": "stream",
     "text": [
      "Antagonist\n",
      "['Instigator', 'Conspirator', 'Tyrant', 'Foreign Adversary', 'Traitor', 'Spy', 'Saboteur', 'Corrupt', 'Incompetent', 'Terrorist', 'Deceiver', 'Bigot']\n",
      "----------------------------------------------------------------------------------------------------\n",
      "Protagonist\n",
      "['Guardian', 'Martyr', 'Peacemaker', 'Rebel', 'Underdog', 'Virtuous']\n",
      "----------------------------------------------------------------------------------------------------\n",
      "Innocent\n",
      "['Forgotten', 'Exploited', 'Victim', 'Scapegoat']\n",
      "----------------------------------------------------------------------------------------------------\n"
     ]
    }
   ],
   "source": [
    "subclasses = {\n",
    "        'Antagonist': ['Instigator', 'Conspirator', 'Tyrant', 'Foreign Adversary', \n",
    "                        'Traitor', 'Spy', 'Saboteur', 'Corrupt', 'Incompetent', \n",
    "                        'Terrorist', 'Deceiver', 'Bigot'],\n",
    "        'Protagonist': ['Guardian', 'Martyr', 'Peacemaker', 'Rebel', 'Underdog', 'Virtuous'],\n",
    "        'Innocent': ['Forgotten', 'Exploited', 'Victim', 'Scapegoat']\n",
    "}\n",
    "\n",
    "for main_class, subclasses in subclasses.items():\n",
    "    print(main_class)\n",
    "    print(subclasses)\n",
    "    print('-'*100)\n",
    "\n"
   ]
  },
  {
   "cell_type": "code",
   "execution_count": null,
   "metadata": {},
   "outputs": [],
   "source": []
  }
 ],
 "metadata": {
  "kernelspec": {
   "display_name": "nlp",
   "language": "python",
   "name": "python3"
  },
  "language_info": {
   "codemirror_mode": {
    "name": "ipython",
    "version": 3
   },
   "file_extension": ".py",
   "mimetype": "text/x-python",
   "name": "python",
   "nbconvert_exporter": "python",
   "pygments_lexer": "ipython3",
   "version": "3.10.16"
  }
 },
 "nbformat": 4,
 "nbformat_minor": 2
}
